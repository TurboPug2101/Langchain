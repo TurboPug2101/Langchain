{
 "cells": [
  {
   "cell_type": "code",
   "execution_count": null,
   "metadata": {},
   "outputs": [],
   "source": []
  },
  {
   "cell_type": "markdown",
   "metadata": {},
   "source": [
    "# Overview of Chroma DB\n",
    "\n",
    "**Chroma DB** is a vector database and search engine designed for handling high-dimensional vector data efficiently. It excels in similarity search and clustering tasks involving embeddings.\n",
    "\n",
    "| **Feature**                    | **Description**                                                                                          |\n",
    "|--------------------------------|----------------------------------------------------------------------------------------------------------|\n",
    "| **Optimized for Embeddings**   | Designed to work with high-dimensional vectors such as word embeddings, image features, etc.             |\n",
    "| **Scalable Vector Search**     | Efficient mechanisms for searching large-scale vector datasets.                                         |\n",
    "| **High Performance**           | Delivers fast retrieval times for similarity searches.                                                   |\n",
    "| **Advanced Indexing Techniques** | Incorporates sophisticated indexing methods for efficient search and retrieval.                          |\n",
    "| **Support for Various Search Types** | Supports exact and approximate nearest neighbor searches, providing flexibility based on application needs. |\n",
    "| **Integration with ML Frameworks** | Integrates with popular machine learning frameworks and tools.                                          |\n",
    "| **Cross-Language Support**     | Provides APIs and libraries in multiple programming languages.                                           |\n",
    "| **User-Friendly Interface**    | Offers an intuitive interface for managing and querying vector data.                                     |\n",
    "\n",
    "## Advantages of Chroma DB\n",
    "\n",
    "| **Advantage**                  | **Description**                                                                                          |\n",
    "|--------------------------------|----------------------------------------------------------------------------------------------------------|\n",
    "| **Efficient Vector Search**    | Optimized for fast search operations on high-dimensional vectors.                                        |\n",
    "| **Scalability**                | Handles large-scale datasets effectively, accommodating millions or billions of vectors.                  |\n",
    "| **Flexible Indexing**          | Offers various indexing options to balance search speed and memory usage.                                |\n",
    "| **Real-Time Performance**      | Provides real-time or near-real-time search capabilities.                                                 |\n",
    "| **Integration with ML Tools**  | Seamlessly integrates with machine learning tools and frameworks.                                         |\n",
    "| **Customizable**               | Allows customization of search parameters and indexing strategies.                                        |\n",
    "| **Low Latency**                | Minimizes latency during search operations.                                                               |\n",
    "| **Support for Various Query Types** | Supports different query types and search modes for diverse use cases.                                  |\n",
    "\n",
    "## Use Cases of Chroma DB\n",
    "\n",
    "| **Use Case**                   | **Description**                                                                                          |\n",
    "|--------------------------------|----------------------------------------------------------------------------------------------------------|\n",
    "| **Recommendation Systems**     | Finds similar items or content for recommendations based on vector embeddings.                           |\n",
    "| **Image and Video Retrieval**  | Searches for similar images or videos by comparing their feature vectors.                                |\n",
    "| **Natural Language Processing (NLP)** | Retrieves similar text or document embeddings for tasks like information retrieval or semantic search. |\n",
    "| **Clustering and Classification** | Facilitates clustering of data points based on vector similarities.                                       |\n",
    "| **Anomaly Detection**          | Identifies outliers or unusual data points by comparing vector similarities.                             |\n",
    "| **Real-Time Search**           | Powers search engines and real-time information retrieval systems requiring quick responses.            |\n",
    "\n",
    "\n"
   ]
  },
  {
   "cell_type": "markdown",
   "metadata": {},
   "source": [
    "# Detailed Comparison of Chroma DB and FAISS\n",
    "\n",
    "| **Aspect**                     | **Chroma DB**                                                                             | **FAISS**                                                                                       |\n",
    "|--------------------------------|--------------------------------------------------------------------------------------------|-------------------------------------------------------------------------------------------------|\n",
    "| **Origin and Development**     | Not tied to a specific organization; developed by various contributors.                    | Developed by Facebook AI Research (FAIR), backed by extensive research and development.        |\n",
    "| **Main Focus**                 | Designed for embedding-based search and retrieval.                                         | Specializes in large-scale vector similarity search and clustering.                             |\n",
    "| **Indexing Techniques**        | Typically uses inverted index and vector embeddings; specific details can vary.            | Offers a wide range of indexing techniques including Flat (exact search), IVF (inverted file), PQ (product quantization), and HNSW (Hierarchical Navigable Small World graphs). |\n",
    "| **Scalability**                | Scales to large datasets but might not be as optimized for billions of vectors.              | Extremely scalable, optimized for billions of vectors using advanced indexing and quantization.|\n",
    "| **Performance with Large Datasets** | Generally high performance, but specifics can depend on implementation.                   | Known for very high performance, especially with GPU acceleration for extremely large datasets. |\n",
    "| **Memory Efficiency**          | Memory efficiency may vary based on the implementation and configuration.                   | Highly optimized for low memory usage with techniques like quantization and compression.        |\n",
    "| **Real-Time Search Capabilities** | Capable of real-time searches, but performance depends on the implementation.               | Highly optimized for real-time or near-real-time search with low latency.                       |\n",
    "| **GPU Support**                | GPU support varies; may not be as comprehensive or optimized.                              | Provides robust GPU support, leveraging GPU acceleration for fast vector searches.             |\n",
    "| **Customizability**            | Customizable indexing and search parameters; specifics may vary.                           | Highly customizable, allowing fine-tuning of precision-recall trade-offs and various indexing methods. |\n",
    "| **Integration with ML Frameworks** | Integrates well with ML frameworks but specifics can depend on the implementation.         | Commonly used in ML pipelines; well-supported with integrations for popular ML frameworks.     |\n",
    "| **Language Support**           | Available in multiple languages, including Python, but may vary.                           | Available in C++ and Python, with Python bindings for easy integration into Python-based workflows. |\n",
    "| **Real-World Use Cases**       | Used in recommendation systems, document retrieval, and search engines.                    | Widely used in recommendation systems, image and video search, NLP, clustering, and anomaly detection. |\n",
    "\n",
    "## Specific Differences\n",
    "\n",
    "1. **Indexing Techniques**:\n",
    "   - **Chroma DB**: May use simpler or different indexing methods tailored to specific use cases.\n",
    "   - **FAISS**: Provides a range of advanced indexing methods like IVF, PQ, and HNSW for optimizing search efficiency.\n",
    "\n",
    "2. **Performance Optimization**:\n",
    "   - **Chroma DB**: Optimized for high-dimensional embeddings but may not offer the same level of performance for extremely large datasets.\n",
    "   - **FAISS**: Specifically engineered for high performance with large-scale datasets, especially when using GPU acceleration.\n",
    "\n",
    "3. **Memory and Efficiency**:\n",
    "   - **Chroma DB**: May not have the same level of optimization for memory usage and compression as FAISS.\n",
    "   - **FAISS**: Known for advanced memory efficiency using techniques such as product quantization and compressed storage.\n",
    "\n",
    "4. **GPU Capabilities**:\n",
    "   - **Chroma DB**: GPU support is available but may not be as comprehensive.\n",
    "   - **FAISS**: Robust GPU support, designed to leverage GPUs for fast search operations.\n",
    "\n",
    "5. **Customization and Tuning**:\n",
    "   - **Chroma DB**: Customization options may be less extensive compared to FAISS.\n",
    "   - **FAISS**: Highly customizable with various settings to balance between accuracy and performance.\n",
    "\n",
    "This comparison provides a clearer view of the practical differences between Chroma DB and FAISS, highlighting their strengths and use cases.\n"
   ]
  },
  {
   "cell_type": "markdown",
   "metadata": {},
   "source": []
  },
  {
   "cell_type": "code",
   "execution_count": 1,
   "metadata": {},
   "outputs": [],
   "source": [
    "## building a sample vectordb\n",
    "from langchain_chroma import Chroma\n",
    "from langchain_community.document_loaders import TextLoader\n",
    "from langchain_community.embeddings import OllamaEmbeddings\n",
    "from langchain_text_splitters import RecursiveCharacterTextSplitter"
   ]
  },
  {
   "cell_type": "code",
   "execution_count": 2,
   "metadata": {},
   "outputs": [
    {
     "data": {
      "text/plain": [
       "[Document(metadata={'source': 'speech.txt'}, page_content='The world must be made safe for democracy. Its peace must be planted upon the tested foundations of political liberty. We have no selfish ends to serve. We desire no conquest, no dominion. We seek no indemnities for ourselves, no material compensation for the sacrifices we shall freely make. We are but one of the champions of the rights of mankind. We shall be satisfied when those rights have been made as secure as the faith and the freedom of nations can make them.\\n\\nJust because we fight without rancor and without selfish object, seeking nothing for ourselves but what we shall wish to share with all free peoples, we shall, I feel confident, conduct our operations as belligerents without passion and ourselves observe with proud punctilio the principles of right and of fair play we profess to be fighting for.\\n\\nâ€¦\\n\\nIt will be all the easier for us to conduct ourselves as belligerents in a high spirit of right and fairness because we act without animus, not in enmity toward a people or with the desire to bring any injury or disadvantage upon them, but only in armed opposition to an irresponsible government which has thrown aside all considerations of humanity and of right and is running amuck. We are, let me say again, the sincere friends of the German people, and shall desire nothing so much as the early reestablishment of intimate relations of mutual advantage between usâ€”however hard it may be for them, for the time being, to believe that this is spoken from our hearts.\\n\\nWe have borne with their present government through all these bitter months because of that friendshipâ€”exercising a patience and forbearance which would otherwise have been impossible. We shall, happily, still have an opportunity to prove that friendship in our daily attitude and actions toward the millions of men and women of German birth and native sympathy who live among us and share our life, and we shall be proud to prove it toward all who are in fact loyal to their neighbors and to the government in the hour of test. They are, most of them, as true and loyal Americans as if they had never known any other fealty or allegiance. They will be prompt to stand with us in rebuking and restraining the few who may be of a different mind and purpose. If there should be disloyalty, it will be dealt with with a firm hand of stern repression; but, if it lifts its head at all, it will lift it only here and there and without countenance except from a lawless and malignant few.\\n\\nIt is a distressing and oppressive duty, gentlemen of the Congress, which I have performed in thus addressing you. There are, it may be, many months of fiery trial and sacrifice ahead of us. It is a fearful thing to lead this great peaceful people into war, into the most terrible and disastrous of all wars, civilization itself seeming to be in the balance. But the right is more precious than peace, and we shall fight for the things which we have always carried nearest our heartsâ€”for democracy, for the right of those who submit to authority to have a voice in their own governments, for the rights and liberties of small nations, for a universal dominion of right by such a concert of free peoples as shall bring peace and safety to all nations and make the world itself at last free.\\n\\nTo such a task we can dedicate our lives and our fortunes, everything that we are and everything that we have, with the pride of those who know that the day has come when America is privileged to spend her blood and her might for the principles that gave her birth and happiness and the peace which she has treasured. God helping her, she can do no other.')]"
      ]
     },
     "execution_count": 2,
     "metadata": {},
     "output_type": "execute_result"
    }
   ],
   "source": [
    "loader = TextLoader(\"speech.txt\")\n",
    "data = loader.load()\n",
    "data"
   ]
  },
  {
   "cell_type": "code",
   "execution_count": 3,
   "metadata": {},
   "outputs": [],
   "source": [
    "# Split\n",
    "text_splitter = RecursiveCharacterTextSplitter(chunk_size=500, chunk_overlap=0)\n",
    "splits = text_splitter.split_documents(data)"
   ]
  },
  {
   "cell_type": "code",
   "execution_count": 6,
   "metadata": {},
   "outputs": [],
   "source": [
    "embedding=OllamaEmbeddings(model=\"gemma:2b\")\n",
    "vectordb=Chroma.from_documents(documents=splits,embedding=embedding)"
   ]
  },
  {
   "cell_type": "code",
   "execution_count": 7,
   "metadata": {},
   "outputs": [
    {
     "data": {
      "text/plain": [
       "<langchain_chroma.vectorstores.Chroma at 0x22c7a567d50>"
      ]
     },
     "execution_count": 7,
     "metadata": {},
     "output_type": "execute_result"
    }
   ],
   "source": [
    "vectordb"
   ]
  },
  {
   "cell_type": "code",
   "execution_count": 8,
   "metadata": {},
   "outputs": [
    {
     "data": {
      "text/plain": [
       "[Document(metadata={'source': 'speech.txt'}, page_content='The world must be made safe for democracy. Its peace must be planted upon the tested foundations of political liberty. We have no selfish ends to serve. We desire no conquest, no dominion. We seek no indemnities for ourselves, no material compensation for the sacrifices we shall freely make. We are but one of the champions of the rights of mankind. We shall be satisfied when those rights have been made as secure as the faith and the freedom of nations can make them.'),\n",
       " Document(metadata={'source': 'speech.txt'}, page_content='To such a task we can dedicate our lives and our fortunes, everything that we are and everything that we have, with the pride of those who know that the day has come when America is privileged to spend her blood and her might for the principles that gave her birth and happiness and the peace which she has treasured. God helping her, she can do no other.'),\n",
       " Document(metadata={'source': 'speech.txt'}, page_content='democracy, for the right of those who submit to authority to have a voice in their own governments, for the rights and liberties of small nations, for a universal dominion of right by such a concert of free peoples as shall bring peace and safety to all nations and make the world itself at last free.'),\n",
       " Document(metadata={'source': 'speech.txt'}, page_content='reestablishment of intimate relations of mutual advantage between usâ€”however hard it may be for them, for the time being, to believe that this is spoken from our hearts.')]"
      ]
     },
     "execution_count": 8,
     "metadata": {},
     "output_type": "execute_result"
    }
   ],
   "source": [
    "#  Querying db\n",
    "query=\"What is more precious than peace, what shall we fight for? \"\n",
    "docs=vectordb.similarity_search(query)\n",
    "docs"
   ]
  },
  {
   "cell_type": "code",
   "execution_count": 9,
   "metadata": {},
   "outputs": [],
   "source": [
    "#Save To Local\n",
    "# created sqllite db\n",
    "vectordb=Chroma.from_documents(documents=splits,embedding=embedding,persist_directory=\"./chroma_db\")"
   ]
  },
  {
   "cell_type": "code",
   "execution_count": 11,
   "metadata": {},
   "outputs": [
    {
     "name": "stdout",
     "output_type": "stream",
     "text": [
      "The world must be made safe for democracy. Its peace must be planted upon the tested foundations of political liberty. We have no selfish ends to serve. We desire no conquest, no dominion. We seek no indemnities for ourselves, no material compensation for the sacrifices we shall freely make. We are but one of the champions of the rights of mankind. We shall be satisfied when those rights have been made as secure as the faith and the freedom of nations can make them.\n"
     ]
    }
   ],
   "source": [
    "db2 = Chroma(persist_directory=\"./chroma_db\", embedding_function=embedding)\n",
    "docs=db2.similarity_search(query)\n",
    "print(docs[0].page_content)"
   ]
  },
  {
   "cell_type": "code",
   "execution_count": 12,
   "metadata": {},
   "outputs": [
    {
     "data": {
      "text/plain": [
       "[(Document(metadata={'source': 'speech.txt'}, page_content='The world must be made safe for democracy. Its peace must be planted upon the tested foundations of political liberty. We have no selfish ends to serve. We desire no conquest, no dominion. We seek no indemnities for ourselves, no material compensation for the sacrifices we shall freely make. We are but one of the champions of the rights of mankind. We shall be satisfied when those rights have been made as secure as the faith and the freedom of nations can make them.'),\n",
       "  4709.066333773646),\n",
       " (Document(metadata={'source': 'speech.txt'}, page_content='To such a task we can dedicate our lives and our fortunes, everything that we are and everything that we have, with the pride of those who know that the day has come when America is privileged to spend her blood and her might for the principles that gave her birth and happiness and the peace which she has treasured. God helping her, she can do no other.'),\n",
       "  4873.9416458496635),\n",
       " (Document(metadata={'source': 'speech.txt'}, page_content='democracy, for the right of those who submit to authority to have a voice in their own governments, for the rights and liberties of small nations, for a universal dominion of right by such a concert of free peoples as shall bring peace and safety to all nations and make the world itself at last free.'),\n",
       "  4952.918029225817),\n",
       " (Document(metadata={'source': 'speech.txt'}, page_content='reestablishment of intimate relations of mutual advantage between usâ€”however hard it may be for them, for the time being, to believe that this is spoken from our hearts.'),\n",
       "  5427.91405751366)]"
      ]
     },
     "execution_count": 12,
     "metadata": {},
     "output_type": "execute_result"
    }
   ],
   "source": [
    "## similarity Search With Score\n",
    "docs = vectordb.similarity_search_with_score(query)\n",
    "docs"
   ]
  },
  {
   "cell_type": "code",
   "execution_count": 13,
   "metadata": {},
   "outputs": [
    {
     "data": {
      "text/plain": [
       "'The world must be made safe for democracy. Its peace must be planted upon the tested foundations of political liberty. We have no selfish ends to serve. We desire no conquest, no dominion. We seek no indemnities for ourselves, no material compensation for the sacrifices we shall freely make. We are but one of the champions of the rights of mankind. We shall be satisfied when those rights have been made as secure as the faith and the freedom of nations can make them.'"
      ]
     },
     "execution_count": 13,
     "metadata": {},
     "output_type": "execute_result"
    }
   ],
   "source": [
    "### Retriever option\n",
    "retriever=vectordb.as_retriever()\n",
    "retriever.invoke(query)[0].page_content"
   ]
  },
  {
   "cell_type": "markdown",
   "metadata": {},
   "source": [
    "Retriever: Often supports more sophisticated querying capabilities, including contextual search, filtering, and ranking based on various criteria. This can improve the quality and relevance of the search results."
   ]
  },
  {
   "cell_type": "markdown",
   "metadata": {},
   "source": [
    "Retriever: Can be integrated into larger data processing pipelines, often providing additional functionality such as preprocessing, post-processing, or combining multiple data sources.\n"
   ]
  },
  {
   "cell_type": "code",
   "execution_count": null,
   "metadata": {},
   "outputs": [],
   "source": []
  }
 ],
 "metadata": {
  "kernelspec": {
   "display_name": "langvenv",
   "language": "python",
   "name": "python3"
  },
  "language_info": {
   "codemirror_mode": {
    "name": "ipython",
    "version": 3
   },
   "file_extension": ".py",
   "mimetype": "text/x-python",
   "name": "python",
   "nbconvert_exporter": "python",
   "pygments_lexer": "ipython3",
   "version": "3.11.5"
  }
 },
 "nbformat": 4,
 "nbformat_minor": 2
}
